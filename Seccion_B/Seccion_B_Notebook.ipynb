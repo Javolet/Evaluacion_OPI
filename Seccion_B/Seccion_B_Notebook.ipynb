{
 "cells": [
  {
   "cell_type": "markdown",
   "id": "b05a7f98",
   "metadata": {},
   "source": [
    "# Sección B: Quién es Quién en los Precios"
   ]
  },
  {
   "cell_type": "markdown",
   "id": "0897190d",
   "metadata": {},
   "source": [
    "## Introducción\n",
    "\n",
    "La siguiente asignación está referida al análisis de la base de datos de la Procuradoría Federal del Consumidor PROFECO, del programa Quien es Quién (QQP) que recaba y difunde información de precios de productos de consumo regular en el hogar, como alimentos, bebidas, productos de aseo personal y del hogar, medicinas, electrodomésticos y artículos de temporada para ofrecer información que permite tomar decisiones de compra mediante la comparación de precios. [1]\n",
    "\n",
    "Esta base de datos es un registro histórico diario de más de 2,000 productos, a partir de 2015, en diversos establecimientos de la República Mexicana. Se pide realizar el análisis con PySpark SQL."
   ]
  },
  {
   "cell_type": "code",
   "execution_count": 1,
   "id": "25bed4f4",
   "metadata": {},
   "outputs": [],
   "source": [
    "# Step 0. Cargar bibliotecas y funciones ·······················#\n",
    "import pyspark\n",
    "import pandas as pd\n",
    "import numpy as np\n",
    "import matplotlib.pyplot as plt\n",
    "%matplotlib inline\n",
    "\n",
    "import findspark\n",
    "findspark.init()\n",
    "\n",
    "from pyspark.sql import SQLContext, SparkSession\n",
    "from pyspark import SparkContext"
   ]
  },
  {
   "cell_type": "code",
   "execution_count": 2,
   "id": "1f930dea",
   "metadata": {},
   "outputs": [
    {
     "name": "stdout",
     "output_type": "stream",
     "text": [
      "root\n",
      " |-- producto: string (nullable = true)\n",
      " |-- presentacion: string (nullable = true)\n",
      " |-- marca: string (nullable = true)\n",
      " |-- categoria: string (nullable = true)\n",
      " |-- catalogo: string (nullable = true)\n",
      " |-- precio: string (nullable = true)\n",
      " |-- fechaRegistro: string (nullable = true)\n",
      " |-- cadenaComercial: string (nullable = true)\n",
      " |-- giro: string (nullable = true)\n",
      " |-- nombreComercial: string (nullable = true)\n",
      " |-- direccion: string (nullable = true)\n",
      " |-- estado: string (nullable = true)\n",
      " |-- municipio: string (nullable = true)\n",
      " |-- latitud: string (nullable = true)\n",
      " |-- longitud: string (nullable = true)\n",
      "\n"
     ]
    }
   ],
   "source": [
    "# Step 1. Cargar los datos del archivo CSV ·····················#\n",
    "# 1.1 Creamos primero un contexto\n",
    "name = 'seccion b'\n",
    "sc = SparkContext(appName = name)\n",
    "sql_c = SQLContext(sc)\n",
    "# 1.2 Y luego pasamos a leer el csv\n",
    "df = sql_c.read.format('csv').options(header='true').load('all_data.csv')\n",
    "sql_c.registerDataFrameAsTable(df, \"my_table\")\n",
    "# 1.3 Es conveniente dar un vistazo a como está definido el esquema de la tabla que hemos generado\n",
    "df.printSchema()"
   ]
  },
  {
   "cell_type": "code",
   "execution_count": 3,
   "id": "f5c9c9be",
   "metadata": {},
   "outputs": [
    {
     "name": "stdout",
     "output_type": "stream",
     "text": [
      "+--------------------+--------------------+--------+----------------+----------------+------+--------------------+------------------+----------+--------------------+--------------------+----------------+--------------------+--------+----------+\n",
      "|            producto|        presentacion|   marca|       categoria|        catalogo|precio|       fechaRegistro|   cadenaComercial|      giro|     nombreComercial|           direccion|          estado|           municipio| latitud|  longitud|\n",
      "+--------------------+--------------------+--------+----------------+----------------+------+--------------------+------------------+----------+--------------------+--------------------+----------------+--------------------+--------+----------+\n",
      "|CUADERNO FORMA IT...|96 HOJAS PASTA DU...|ESTRELLA|MATERIAL ESCOLAR|UTILES ESCOLARES|  25.9|2011-05-18 00:00:...|ABASTECEDORA LUMEN|PAPELERIAS|ABASTECEDORA LUME...|CANNES No. 6 ESQ....|DISTRITO FEDERAL|TLALPAN          ...|19.29699|-99.125417|\n",
      "|            CRAYONES|CAJA 12 CERAS. JU...| CRAYOLA|MATERIAL ESCOLAR|UTILES ESCOLARES|  27.5|2011-05-18 00:00:...|ABASTECEDORA LUMEN|PAPELERIAS|ABASTECEDORA LUME...|CANNES No. 6 ESQ....|DISTRITO FEDERAL|TLALPAN          ...|19.29699|-99.125417|\n",
      "|            CRAYONES|CAJA 12 CERAS. TA...| CRAYOLA|MATERIAL ESCOLAR|UTILES ESCOLARES|  13.9|2011-05-18 00:00:...|ABASTECEDORA LUMEN|PAPELERIAS|ABASTECEDORA LUME...|CANNES No. 6 ESQ....|DISTRITO FEDERAL|TLALPAN          ...|19.29699|-99.125417|\n",
      "|   COLORES DE MADERA|CAJA 12 PIEZAS LA...|PINCELIN|MATERIAL ESCOLAR|UTILES ESCOLARES|  46.9|2011-05-18 00:00:...|ABASTECEDORA LUMEN|PAPELERIAS|ABASTECEDORA LUME...|CANNES No. 6 ESQ....|DISTRITO FEDERAL|TLALPAN          ...|19.29699|-99.125417|\n",
      "|         COLOR LARGO|CAJA 36 PIEZAS. C...| CRAYOLA|MATERIAL ESCOLAR|UTILES ESCOLARES|   115|2011-05-18 00:00:...|ABASTECEDORA LUMEN|PAPELERIAS|ABASTECEDORA LUME...|CANNES No. 6 ESQ....|DISTRITO FEDERAL|TLALPAN          ...|19.29699|-99.125417|\n",
      "+--------------------+--------------------+--------+----------------+----------------+------+--------------------+------------------+----------+--------------------+--------------------+----------------+--------------------+--------+----------+\n",
      "\n"
     ]
    }
   ],
   "source": [
    "# Step 2. Creamos la vista temporal de la tabla ················#\n",
    "df.createOrReplaceTempView(\"my_table\")\n",
    "# Damos una primera vista a los datos\n",
    "sqlDF = sql_c.sql(\"SELECT * FROM my_table LIMIT 5\")\n",
    "sqlDF.show()\n",
    "# Y pasamos a responder las preguntas"
   ]
  },
  {
   "cell_type": "markdown",
   "id": "9a567bb0",
   "metadata": {},
   "source": [
    "## 1. Procesamiento de los datos"
   ]
  },
  {
   "cell_type": "markdown",
   "id": "624ddc6b",
   "metadata": {},
   "source": [
    "### a. ¿Cuántos registros hay?"
   ]
  },
  {
   "cell_type": "code",
   "execution_count": 4,
   "id": "8db7e94b",
   "metadata": {},
   "outputs": [
    {
     "name": "stdout",
     "output_type": "stream",
     "text": [
      "+--------+\n",
      "|count(1)|\n",
      "+--------+\n",
      "|62530715|\n",
      "+--------+\n",
      "\n"
     ]
    }
   ],
   "source": [
    "sqlDF = sql_c.sql(\"SELECT COUNT(*) FROM my_table\")\n",
    "sqlDF.show(2,False)"
   ]
  },
  {
   "cell_type": "markdown",
   "id": "c9331991",
   "metadata": {},
   "source": [
    "Respuesta: Hay 62,530,715 registros. Estos más de 62.5 millones de registros están dentro de la tabla creada con 15 variables."
   ]
  },
  {
   "cell_type": "markdown",
   "id": "56f77081",
   "metadata": {},
   "source": [
    "### b. ¿Cuántas categorías?"
   ]
  },
  {
   "cell_type": "code",
   "execution_count": 5,
   "id": "7ec7a2dd",
   "metadata": {},
   "outputs": [
    {
     "name": "stdout",
     "output_type": "stream",
     "text": [
      "+-------------------------+\n",
      "|count(DISTINCT categoria)|\n",
      "+-------------------------+\n",
      "|41                       |\n",
      "+-------------------------+\n",
      "\n"
     ]
    }
   ],
   "source": [
    "sqlDF = sql_c.sql(\"SELECT COUNT(DISTINCT categoria) FROM my_table\")\n",
    "sqlDF.show(2,False)"
   ]
  },
  {
   "cell_type": "markdown",
   "id": "b52201ff",
   "metadata": {},
   "source": [
    "Respuesta: Hay 41 categorías en la variable \"categoría\"."
   ]
  },
  {
   "cell_type": "markdown",
   "id": "9a045972",
   "metadata": {},
   "source": [
    "### c.¿Cuántas cadenas comerciales están siendo monitoreadas?"
   ]
  },
  {
   "cell_type": "code",
   "execution_count": 6,
   "id": "67aab5cd",
   "metadata": {},
   "outputs": [
    {
     "name": "stdout",
     "output_type": "stream",
     "text": [
      "+-------------------------------+\n",
      "|count(DISTINCT cadenaComercial)|\n",
      "+-------------------------------+\n",
      "|705                            |\n",
      "+-------------------------------+\n",
      "\n"
     ]
    }
   ],
   "source": [
    "sqlDF = sql_c.sql(\"SELECT COUNT(DISTINCT cadenaComercial) FROM my_table\")\n",
    "sqlDF.show(2,False)"
   ]
  },
  {
   "cell_type": "markdown",
   "id": "30fbb998",
   "metadata": {},
   "source": [
    "Se están monitoreando 705 cadenas comerciales."
   ]
  },
  {
   "cell_type": "markdown",
   "id": "61d0df79",
   "metadata": {},
   "source": [
    "### d.¿Cómo podrías determinar la calidad de los datos? ¿Detectaste algún tipo de inconsistencia o error en la fuente?"
   ]
  },
  {
   "cell_type": "markdown",
   "id": "c2530e5f",
   "metadata": {},
   "source": [
    "Para iniciar, al haber hecho el vistazo del esquema de la tabla, pude observar que los precios están siendo tratados como una cadena (string), en vez de ser una variable numérica. De igual manera la fecha de registro, latitud y longitud se tratan como cadena. "
   ]
  },
  {
   "cell_type": "markdown",
   "id": "c8d9d47e",
   "metadata": {},
   "source": [
    "### e.¿Cuáles son los productos más monitoreados en cada entidad?"
   ]
  },
  {
   "cell_type": "code",
   "execution_count": 7,
   "id": "d493c813",
   "metadata": {},
   "outputs": [
    {
     "name": "stdout",
     "output_type": "stream",
     "text": [
      "+--------------------+-------+\n",
      "|            producto|mycount|\n",
      "+--------------------+-------+\n",
      "|            REFRESCO|1247981|\n",
      "|   DETERGENTE P/ROPA| 990122|\n",
      "|                 FUD| 933410|\n",
      "|LECHE ULTRAPASTEU...| 886716|\n",
      "|             SHAMPOO| 745467|\n",
      "|    JABON DE TOCADOR| 744914|\n",
      "|      CHILES EN LATA| 724862|\n",
      "|            MAYONESA| 697586|\n",
      "|             YOGHURT| 632362|\n",
      "|         DESODORANTE| 623684|\n",
      "+--------------------+-------+\n",
      "\n"
     ]
    }
   ],
   "source": [
    "sqlDF = sql_c.sql(\"SELECT producto, COUNT(*) mycount FROM my_table GROUP BY producto ORDER BY mycount DESC LIMIT 10\")\n",
    "sqlDF.show()"
   ]
  },
  {
   "cell_type": "markdown",
   "id": "1a097e59",
   "metadata": {},
   "source": [
    "Podemos observar que los productos más monitoreados son los refrescos y detergentes. El caso de FUD puede referirse a una marca que encontré referida a carnes curadas y quesos en México. "
   ]
  },
  {
   "cell_type": "markdown",
   "id": "370d259c",
   "metadata": {},
   "source": [
    "### f. ¿Cuál es la cadena comercial con mayor variedad de productos monitoreados?"
   ]
  },
  {
   "cell_type": "code",
   "execution_count": 8,
   "id": "4d3e3dc1",
   "metadata": {},
   "outputs": [
    {
     "name": "stdout",
     "output_type": "stream",
     "text": [
      "+--------------------+------+\n",
      "|     cadenaComercial|counts|\n",
      "+--------------------+------+\n",
      "|             SORIANA|  1059|\n",
      "|            WAL-MART|  1051|\n",
      "|MEGA COMERCIAL ME...|  1049|\n",
      "|  COMERCIAL MEXICANA|  1036|\n",
      "|            CHEDRAUI|  1026|\n",
      "|     MERCADO SORIANA|  1024|\n",
      "|      BODEGA AURRERA|  1012|\n",
      "|HIPERMERCADO SORIANA|  1006|\n",
      "|              H.E.B.|  1001|\n",
      "|        SORIANA PLUS|   999|\n",
      "+--------------------+------+\n",
      "\n"
     ]
    }
   ],
   "source": [
    "sqlDF = sql_c.sql(\"SELECT cadenaComercial, COUNT(DISTINCT producto) AS counts \\\n",
    "FROM my_table GROUP BY cadenaComercial ORDER BY counts DESC LIMIT 10\")\n",
    "sqlDF.show()"
   ]
  },
  {
   "cell_type": "markdown",
   "id": "adf0d215",
   "metadata": {},
   "source": [
    "La cadena comercial con mayor variedad de productos monitoreados es Soriana."
   ]
  },
  {
   "cell_type": "markdown",
   "id": "d9b9cb66",
   "metadata": {},
   "source": [
    "## Referencias\n",
    " \n",
    "[1] Gobierno de México - Profeco. (9 de mayo del 2021). *Quién es Quién en los Precios*. Descargado de https://www.profeco.gob.mx/precios/canasta/default.aspx  \n"
   ]
  }
 ],
 "metadata": {
  "kernelspec": {
   "display_name": "Python 3",
   "language": "python",
   "name": "python3"
  },
  "language_info": {
   "codemirror_mode": {
    "name": "ipython",
    "version": 3
   },
   "file_extension": ".py",
   "mimetype": "text/x-python",
   "name": "python",
   "nbconvert_exporter": "python",
   "pygments_lexer": "ipython3",
   "version": "3.8.3"
  }
 },
 "nbformat": 4,
 "nbformat_minor": 5
}
