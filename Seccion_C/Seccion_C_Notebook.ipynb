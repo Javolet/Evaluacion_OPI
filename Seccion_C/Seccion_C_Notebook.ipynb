{
 "cells": [
  {
   "cell_type": "markdown",
   "id": "7fb578e9",
   "metadata": {},
   "source": [
    "# Sección C: Evaluando BOPS en Home & Kitchen"
   ]
  },
  {
   "cell_type": "markdown",
   "id": "ff96657a",
   "metadata": {},
   "source": [
    "## Introducción"
   ]
  },
  {
   "cell_type": "markdown",
   "id": "e4917bed",
   "metadata": {},
   "source": [
    "Home & Kitchen es una gran cadena retailer con 84 tiendas en Norte América, 67 de ellas en Estados Unidos y 17 en Canadá. Ha tenido desde el inicio presencia de tiendas físicas y en el 2007 introdujo su tienda online. Ahora cada división, física y online opera como unidad rentable. Después de un fuerte crecimiento de la división online, sus ventas se han estabilizado.\n",
    "\n",
    "A fin de impulsar las ventas online, en el 2010 se lanzó la iniciativa BOPS (Compre online y recójalo en la tienda, por sus siglas en inglés). Aparte del despacho clásico, los clientes pueden recoger sus compras. Sin embargo BOPS es operacionalmente complejo, y debido a la rivalidad interna entre las divisiones físicas y online los primeros han tenido resistencia al programa BOPS, que sólo ha sido lanzado en Estados Unidos.\n",
    "\n",
    "En abril del 2012 se tuvieron resultados de las ventas, donde una aparente baja de ventas en ambas divisiones pone en riesgo la continuidad de BOPS. Se pide analizar el caso y recomendar si prosigue la expansión a Canadá y cuantos millones de dólares se ganaron o perdieron con BOPS. "
   ]
  },
  {
   "cell_type": "markdown",
   "id": "3fe6f15c",
   "metadata": {},
   "source": [
    "### Análisis Exploratorio\n",
    "\n",
    "Iniciaremos cargando las bibliotecas de funciones y los datos que fueron descargados en la carpeta de trabajo. Cada bloque de este notebook se complementará con comentarios para guiar al lector en el procedimiento utilizado."
   ]
  },
  {
   "cell_type": "code",
   "execution_count": 1,
   "id": "8fe07d82",
   "metadata": {},
   "outputs": [],
   "source": [
    "# Step 0. Cargar bibliotecas y funciones ·······················#\n",
    "import pandas as pd\n",
    "import numpy as np\n",
    "import matplotlib.pyplot as plt\n",
    "%matplotlib inline"
   ]
  },
  {
   "cell_type": "code",
   "execution_count": 2,
   "id": "b8db6b37",
   "metadata": {},
   "outputs": [],
   "source": [
    "# Step 1. Cargar los datos del archivo CSV ·····················#\n",
    "# 1.1 Cada división tiene su propio archivo, abriremos el canal físico\n",
    "dataset_bm = pd.read_csv('bops_bm.csv')\n",
    "# 1.2 Ahora abrimos el canal online\n",
    "dataset_ol = pd.read_csv('bops_online.csv')"
   ]
  },
  {
   "cell_type": "code",
   "execution_count": 3,
   "id": "65990b14",
   "metadata": {},
   "outputs": [
    {
     "data": {
      "text/html": [
       "<div>\n",
       "<style scoped>\n",
       "    .dataframe tbody tr th:only-of-type {\n",
       "        vertical-align: middle;\n",
       "    }\n",
       "\n",
       "    .dataframe tbody tr th {\n",
       "        vertical-align: top;\n",
       "    }\n",
       "\n",
       "    .dataframe thead th {\n",
       "        text-align: right;\n",
       "    }\n",
       "</style>\n",
       "<table border=\"1\" class=\"dataframe\">\n",
       "  <thead>\n",
       "    <tr style=\"text-align: right;\">\n",
       "      <th></th>\n",
       "      <th>id (store)</th>\n",
       "      <th>year</th>\n",
       "      <th>month</th>\n",
       "      <th>week</th>\n",
       "      <th>usa</th>\n",
       "      <th>after</th>\n",
       "      <th>sales</th>\n",
       "      <th>Unnamed: 7</th>\n",
       "      <th>Unnamed: 8</th>\n",
       "      <th>Unnamed: 9</th>\n",
       "      <th>Unnamed: 10</th>\n",
       "    </tr>\n",
       "  </thead>\n",
       "  <tbody>\n",
       "    <tr>\n",
       "      <th>0</th>\n",
       "      <td>1.0</td>\n",
       "      <td>2011.0</td>\n",
       "      <td>4.0</td>\n",
       "      <td>16.0</td>\n",
       "      <td>0.0</td>\n",
       "      <td>0.0</td>\n",
       "      <td>118,691</td>\n",
       "      <td>NaN</td>\n",
       "      <td>NaN</td>\n",
       "      <td>NaN</td>\n",
       "      <td>NaN</td>\n",
       "    </tr>\n",
       "    <tr>\n",
       "      <th>1</th>\n",
       "      <td>1.0</td>\n",
       "      <td>2011.0</td>\n",
       "      <td>4.0</td>\n",
       "      <td>17.0</td>\n",
       "      <td>0.0</td>\n",
       "      <td>0.0</td>\n",
       "      <td>113,804</td>\n",
       "      <td>NaN</td>\n",
       "      <td>NaN</td>\n",
       "      <td>NaN</td>\n",
       "      <td>NaN</td>\n",
       "    </tr>\n",
       "    <tr>\n",
       "      <th>2</th>\n",
       "      <td>1.0</td>\n",
       "      <td>2011.0</td>\n",
       "      <td>4.0</td>\n",
       "      <td>18.0</td>\n",
       "      <td>0.0</td>\n",
       "      <td>0.0</td>\n",
       "      <td>172,104</td>\n",
       "      <td>NaN</td>\n",
       "      <td>NaN</td>\n",
       "      <td>NaN</td>\n",
       "      <td>NaN</td>\n",
       "    </tr>\n",
       "    <tr>\n",
       "      <th>3</th>\n",
       "      <td>1.0</td>\n",
       "      <td>2011.0</td>\n",
       "      <td>5.0</td>\n",
       "      <td>19.0</td>\n",
       "      <td>0.0</td>\n",
       "      <td>0.0</td>\n",
       "      <td>105,591</td>\n",
       "      <td>NaN</td>\n",
       "      <td>NaN</td>\n",
       "      <td>NaN</td>\n",
       "      <td>NaN</td>\n",
       "    </tr>\n",
       "    <tr>\n",
       "      <th>4</th>\n",
       "      <td>1.0</td>\n",
       "      <td>2011.0</td>\n",
       "      <td>5.0</td>\n",
       "      <td>20.0</td>\n",
       "      <td>0.0</td>\n",
       "      <td>0.0</td>\n",
       "      <td>94,884</td>\n",
       "      <td>NaN</td>\n",
       "      <td>NaN</td>\n",
       "      <td>NaN</td>\n",
       "      <td>NaN</td>\n",
       "    </tr>\n",
       "    <tr>\n",
       "      <th>...</th>\n",
       "      <td>...</td>\n",
       "      <td>...</td>\n",
       "      <td>...</td>\n",
       "      <td>...</td>\n",
       "      <td>...</td>\n",
       "      <td>...</td>\n",
       "      <td>...</td>\n",
       "      <td>...</td>\n",
       "      <td>...</td>\n",
       "      <td>...</td>\n",
       "      <td>...</td>\n",
       "    </tr>\n",
       "    <tr>\n",
       "      <th>4533</th>\n",
       "      <td>169.0</td>\n",
       "      <td>2012.0</td>\n",
       "      <td>3.0</td>\n",
       "      <td>14.0</td>\n",
       "      <td>1.0</td>\n",
       "      <td>1.0</td>\n",
       "      <td>67,671</td>\n",
       "      <td>NaN</td>\n",
       "      <td>NaN</td>\n",
       "      <td>NaN</td>\n",
       "      <td>NaN</td>\n",
       "    </tr>\n",
       "    <tr>\n",
       "      <th>4534</th>\n",
       "      <td>169.0</td>\n",
       "      <td>2012.0</td>\n",
       "      <td>4.0</td>\n",
       "      <td>15.0</td>\n",
       "      <td>1.0</td>\n",
       "      <td>1.0</td>\n",
       "      <td>50,140</td>\n",
       "      <td>NaN</td>\n",
       "      <td>NaN</td>\n",
       "      <td>NaN</td>\n",
       "      <td>NaN</td>\n",
       "    </tr>\n",
       "    <tr>\n",
       "      <th>4535</th>\n",
       "      <td>169.0</td>\n",
       "      <td>2012.0</td>\n",
       "      <td>4.0</td>\n",
       "      <td>16.0</td>\n",
       "      <td>1.0</td>\n",
       "      <td>1.0</td>\n",
       "      <td>75,023</td>\n",
       "      <td>NaN</td>\n",
       "      <td>NaN</td>\n",
       "      <td>NaN</td>\n",
       "      <td>NaN</td>\n",
       "    </tr>\n",
       "    <tr>\n",
       "      <th>4536</th>\n",
       "      <td>NaN</td>\n",
       "      <td>NaN</td>\n",
       "      <td>NaN</td>\n",
       "      <td>NaN</td>\n",
       "      <td>NaN</td>\n",
       "      <td>NaN</td>\n",
       "      <td>NaN</td>\n",
       "      <td>NaN</td>\n",
       "      <td>NaN</td>\n",
       "      <td>NaN</td>\n",
       "      <td>NaN</td>\n",
       "    </tr>\n",
       "    <tr>\n",
       "      <th>4537</th>\n",
       "      <td>NaN</td>\n",
       "      <td>NaN</td>\n",
       "      <td>NaN</td>\n",
       "      <td>NaN</td>\n",
       "      <td>NaN</td>\n",
       "      <td>NaN</td>\n",
       "      <td>NaN</td>\n",
       "      <td>0.0</td>\n",
       "      <td>0.0</td>\n",
       "      <td>NaN</td>\n",
       "      <td>0.0</td>\n",
       "    </tr>\n",
       "  </tbody>\n",
       "</table>\n",
       "<p>4538 rows × 11 columns</p>\n",
       "</div>"
      ],
      "text/plain": [
       "      id (store)    year  month  week  usa  after   sales   Unnamed: 7  \\\n",
       "0            1.0  2011.0    4.0  16.0  0.0    0.0  118,691         NaN   \n",
       "1            1.0  2011.0    4.0  17.0  0.0    0.0  113,804         NaN   \n",
       "2            1.0  2011.0    4.0  18.0  0.0    0.0  172,104         NaN   \n",
       "3            1.0  2011.0    5.0  19.0  0.0    0.0  105,591         NaN   \n",
       "4            1.0  2011.0    5.0  20.0  0.0    0.0   94,884         NaN   \n",
       "...          ...     ...    ...   ...  ...    ...      ...         ...   \n",
       "4533       169.0  2012.0    3.0  14.0  1.0    1.0   67,671         NaN   \n",
       "4534       169.0  2012.0    4.0  15.0  1.0    1.0   50,140         NaN   \n",
       "4535       169.0  2012.0    4.0  16.0  1.0    1.0   75,023         NaN   \n",
       "4536         NaN     NaN    NaN   NaN  NaN    NaN      NaN         NaN   \n",
       "4537         NaN     NaN    NaN   NaN  NaN    NaN      NaN         0.0   \n",
       "\n",
       "      Unnamed: 8  Unnamed: 9  Unnamed: 10  \n",
       "0            NaN         NaN          NaN  \n",
       "1            NaN         NaN          NaN  \n",
       "2            NaN         NaN          NaN  \n",
       "3            NaN         NaN          NaN  \n",
       "4            NaN         NaN          NaN  \n",
       "...          ...         ...          ...  \n",
       "4533         NaN         NaN          NaN  \n",
       "4534         NaN         NaN          NaN  \n",
       "4535         NaN         NaN          NaN  \n",
       "4536         NaN         NaN          NaN  \n",
       "4537         0.0         NaN          0.0  \n",
       "\n",
       "[4538 rows x 11 columns]"
      ]
     },
     "execution_count": 3,
     "metadata": {},
     "output_type": "execute_result"
    }
   ],
   "source": [
    "# Step 2. Realizar un análisis exploratorio de datos ···········#\n",
    "# 2.1. Primero demos un vistazo al dataset del canal físico\n",
    "dataset_bm"
   ]
  },
  {
   "cell_type": "code",
   "execution_count": 4,
   "id": "0af5cc9b",
   "metadata": {},
   "outputs": [
    {
     "data": {
      "text/html": [
       "<div>\n",
       "<style scoped>\n",
       "    .dataframe tbody tr th:only-of-type {\n",
       "        vertical-align: middle;\n",
       "    }\n",
       "\n",
       "    .dataframe tbody tr th {\n",
       "        vertical-align: top;\n",
       "    }\n",
       "\n",
       "    .dataframe thead th {\n",
       "        text-align: right;\n",
       "    }\n",
       "</style>\n",
       "<table border=\"1\" class=\"dataframe\">\n",
       "  <thead>\n",
       "    <tr style=\"text-align: right;\">\n",
       "      <th></th>\n",
       "      <th>id (DMA)</th>\n",
       "      <th>year</th>\n",
       "      <th>month</th>\n",
       "      <th>week</th>\n",
       "      <th>after</th>\n",
       "      <th>close</th>\n",
       "      <th>sales</th>\n",
       "      <th>Unnamed: 7</th>\n",
       "      <th>Unnamed: 8</th>\n",
       "      <th>Unnamed: 9</th>\n",
       "      <th>Unnamed: 10</th>\n",
       "      <th>Unnamed: 11</th>\n",
       "      <th>Unnamed: 12</th>\n",
       "      <th>Unnamed: 13</th>\n",
       "      <th>Unnamed: 14</th>\n",
       "      <th>Unnamed: 15</th>\n",
       "      <th>Unnamed: 16</th>\n",
       "    </tr>\n",
       "  </thead>\n",
       "  <tbody>\n",
       "    <tr>\n",
       "      <th>0</th>\n",
       "      <td>1</td>\n",
       "      <td>2011</td>\n",
       "      <td>4</td>\n",
       "      <td>17</td>\n",
       "      <td>0</td>\n",
       "      <td>1</td>\n",
       "      <td>18,564</td>\n",
       "      <td>NaN</td>\n",
       "      <td>NaN</td>\n",
       "      <td>NaN</td>\n",
       "      <td>NaN</td>\n",
       "      <td>NaN</td>\n",
       "      <td>NaN</td>\n",
       "      <td>NaN</td>\n",
       "      <td>NaN</td>\n",
       "      <td>NaN</td>\n",
       "      <td>NaN</td>\n",
       "    </tr>\n",
       "    <tr>\n",
       "      <th>1</th>\n",
       "      <td>1</td>\n",
       "      <td>2011</td>\n",
       "      <td>4</td>\n",
       "      <td>18</td>\n",
       "      <td>0</td>\n",
       "      <td>1</td>\n",
       "      <td>30,883</td>\n",
       "      <td>NaN</td>\n",
       "      <td>NaN</td>\n",
       "      <td>NaN</td>\n",
       "      <td>NaN</td>\n",
       "      <td>NaN</td>\n",
       "      <td>NaN</td>\n",
       "      <td>NaN</td>\n",
       "      <td>NaN</td>\n",
       "      <td>NaN</td>\n",
       "      <td>NaN</td>\n",
       "    </tr>\n",
       "    <tr>\n",
       "      <th>2</th>\n",
       "      <td>1</td>\n",
       "      <td>2011</td>\n",
       "      <td>5</td>\n",
       "      <td>19</td>\n",
       "      <td>0</td>\n",
       "      <td>1</td>\n",
       "      <td>37,425</td>\n",
       "      <td>NaN</td>\n",
       "      <td>NaN</td>\n",
       "      <td>NaN</td>\n",
       "      <td>NaN</td>\n",
       "      <td>NaN</td>\n",
       "      <td>NaN</td>\n",
       "      <td>NaN</td>\n",
       "      <td>NaN</td>\n",
       "      <td>NaN</td>\n",
       "      <td>NaN</td>\n",
       "    </tr>\n",
       "    <tr>\n",
       "      <th>3</th>\n",
       "      <td>1</td>\n",
       "      <td>2011</td>\n",
       "      <td>5</td>\n",
       "      <td>20</td>\n",
       "      <td>0</td>\n",
       "      <td>1</td>\n",
       "      <td>32,563</td>\n",
       "      <td>NaN</td>\n",
       "      <td>NaN</td>\n",
       "      <td>NaN</td>\n",
       "      <td>NaN</td>\n",
       "      <td>NaN</td>\n",
       "      <td>NaN</td>\n",
       "      <td>NaN</td>\n",
       "      <td>NaN</td>\n",
       "      <td>NaN</td>\n",
       "      <td>NaN</td>\n",
       "    </tr>\n",
       "    <tr>\n",
       "      <th>4</th>\n",
       "      <td>1</td>\n",
       "      <td>2011</td>\n",
       "      <td>5</td>\n",
       "      <td>21</td>\n",
       "      <td>0</td>\n",
       "      <td>1</td>\n",
       "      <td>35,773</td>\n",
       "      <td>NaN</td>\n",
       "      <td>NaN</td>\n",
       "      <td>NaN</td>\n",
       "      <td>NaN</td>\n",
       "      <td>NaN</td>\n",
       "      <td>NaN</td>\n",
       "      <td>NaN</td>\n",
       "      <td>NaN</td>\n",
       "      <td>NaN</td>\n",
       "      <td>NaN</td>\n",
       "    </tr>\n",
       "    <tr>\n",
       "      <th>...</th>\n",
       "      <td>...</td>\n",
       "      <td>...</td>\n",
       "      <td>...</td>\n",
       "      <td>...</td>\n",
       "      <td>...</td>\n",
       "      <td>...</td>\n",
       "      <td>...</td>\n",
       "      <td>...</td>\n",
       "      <td>...</td>\n",
       "      <td>...</td>\n",
       "      <td>...</td>\n",
       "      <td>...</td>\n",
       "      <td>...</td>\n",
       "      <td>...</td>\n",
       "      <td>...</td>\n",
       "      <td>...</td>\n",
       "      <td>...</td>\n",
       "    </tr>\n",
       "    <tr>\n",
       "      <th>10705</th>\n",
       "      <td>210</td>\n",
       "      <td>2012</td>\n",
       "      <td>2</td>\n",
       "      <td>10</td>\n",
       "      <td>1</td>\n",
       "      <td>0</td>\n",
       "      <td>9,357</td>\n",
       "      <td>NaN</td>\n",
       "      <td>NaN</td>\n",
       "      <td>NaN</td>\n",
       "      <td>NaN</td>\n",
       "      <td>NaN</td>\n",
       "      <td>NaN</td>\n",
       "      <td>NaN</td>\n",
       "      <td>NaN</td>\n",
       "      <td>NaN</td>\n",
       "      <td>NaN</td>\n",
       "    </tr>\n",
       "    <tr>\n",
       "      <th>10706</th>\n",
       "      <td>210</td>\n",
       "      <td>2012</td>\n",
       "      <td>3</td>\n",
       "      <td>11</td>\n",
       "      <td>1</td>\n",
       "      <td>0</td>\n",
       "      <td>3,013</td>\n",
       "      <td>NaN</td>\n",
       "      <td>NaN</td>\n",
       "      <td>NaN</td>\n",
       "      <td>NaN</td>\n",
       "      <td>NaN</td>\n",
       "      <td>NaN</td>\n",
       "      <td>NaN</td>\n",
       "      <td>NaN</td>\n",
       "      <td>NaN</td>\n",
       "      <td>NaN</td>\n",
       "    </tr>\n",
       "    <tr>\n",
       "      <th>10707</th>\n",
       "      <td>210</td>\n",
       "      <td>2012</td>\n",
       "      <td>3</td>\n",
       "      <td>12</td>\n",
       "      <td>1</td>\n",
       "      <td>0</td>\n",
       "      <td>3,155</td>\n",
       "      <td>NaN</td>\n",
       "      <td>NaN</td>\n",
       "      <td>NaN</td>\n",
       "      <td>NaN</td>\n",
       "      <td>NaN</td>\n",
       "      <td>NaN</td>\n",
       "      <td>NaN</td>\n",
       "      <td>NaN</td>\n",
       "      <td>NaN</td>\n",
       "      <td>NaN</td>\n",
       "    </tr>\n",
       "    <tr>\n",
       "      <th>10708</th>\n",
       "      <td>210</td>\n",
       "      <td>2012</td>\n",
       "      <td>3</td>\n",
       "      <td>13</td>\n",
       "      <td>1</td>\n",
       "      <td>0</td>\n",
       "      <td>2,925</td>\n",
       "      <td>NaN</td>\n",
       "      <td>NaN</td>\n",
       "      <td>NaN</td>\n",
       "      <td>NaN</td>\n",
       "      <td>NaN</td>\n",
       "      <td>NaN</td>\n",
       "      <td>NaN</td>\n",
       "      <td>NaN</td>\n",
       "      <td>NaN</td>\n",
       "      <td>NaN</td>\n",
       "    </tr>\n",
       "    <tr>\n",
       "      <th>10709</th>\n",
       "      <td>210</td>\n",
       "      <td>2012</td>\n",
       "      <td>3</td>\n",
       "      <td>14</td>\n",
       "      <td>1</td>\n",
       "      <td>0</td>\n",
       "      <td>3,701</td>\n",
       "      <td>NaN</td>\n",
       "      <td>NaN</td>\n",
       "      <td>NaN</td>\n",
       "      <td>NaN</td>\n",
       "      <td>NaN</td>\n",
       "      <td>NaN</td>\n",
       "      <td>NaN</td>\n",
       "      <td>NaN</td>\n",
       "      <td>NaN</td>\n",
       "      <td>NaN</td>\n",
       "    </tr>\n",
       "  </tbody>\n",
       "</table>\n",
       "<p>10710 rows × 17 columns</p>\n",
       "</div>"
      ],
      "text/plain": [
       "       id (DMA)  year  month  week  after  close  sales   Unnamed: 7  \\\n",
       "0             1  2011      4    17      0      1  18,564         NaN   \n",
       "1             1  2011      4    18      0      1  30,883         NaN   \n",
       "2             1  2011      5    19      0      1  37,425         NaN   \n",
       "3             1  2011      5    20      0      1  32,563         NaN   \n",
       "4             1  2011      5    21      0      1  35,773         NaN   \n",
       "...         ...   ...    ...   ...    ...    ...     ...         ...   \n",
       "10705       210  2012      2    10      1      0   9,357         NaN   \n",
       "10706       210  2012      3    11      1      0   3,013         NaN   \n",
       "10707       210  2012      3    12      1      0   3,155         NaN   \n",
       "10708       210  2012      3    13      1      0   2,925         NaN   \n",
       "10709       210  2012      3    14      1      0   3,701         NaN   \n",
       "\n",
       "       Unnamed: 8  Unnamed: 9  Unnamed: 10  Unnamed: 11  Unnamed: 12  \\\n",
       "0             NaN         NaN          NaN          NaN          NaN   \n",
       "1             NaN         NaN          NaN          NaN          NaN   \n",
       "2             NaN         NaN          NaN          NaN          NaN   \n",
       "3             NaN         NaN          NaN          NaN          NaN   \n",
       "4             NaN         NaN          NaN          NaN          NaN   \n",
       "...           ...         ...          ...          ...          ...   \n",
       "10705         NaN         NaN          NaN          NaN          NaN   \n",
       "10706         NaN         NaN          NaN          NaN          NaN   \n",
       "10707         NaN         NaN          NaN          NaN          NaN   \n",
       "10708         NaN         NaN          NaN          NaN          NaN   \n",
       "10709         NaN         NaN          NaN          NaN          NaN   \n",
       "\n",
       "       Unnamed: 13  Unnamed: 14  Unnamed: 15  Unnamed: 16  \n",
       "0              NaN          NaN          NaN          NaN  \n",
       "1              NaN          NaN          NaN          NaN  \n",
       "2              NaN          NaN          NaN          NaN  \n",
       "3              NaN          NaN          NaN          NaN  \n",
       "4              NaN          NaN          NaN          NaN  \n",
       "...            ...          ...          ...          ...  \n",
       "10705          NaN          NaN          NaN          NaN  \n",
       "10706          NaN          NaN          NaN          NaN  \n",
       "10707          NaN          NaN          NaN          NaN  \n",
       "10708          NaN          NaN          NaN          NaN  \n",
       "10709          NaN          NaN          NaN          NaN  \n",
       "\n",
       "[10710 rows x 17 columns]"
      ]
     },
     "execution_count": 4,
     "metadata": {},
     "output_type": "execute_result"
    }
   ],
   "source": [
    "# 2.2. Ahora veamos el dataset del canal online\n",
    "dataset_ol"
   ]
  },
  {
   "cell_type": "markdown",
   "id": "ba28de38",
   "metadata": {},
   "source": [
    "De acuerdo al diccionario de datos podiamos esperar 7 columnas en el dataset del canal físico, y 7 columnas en el dataset del canal online. Asimismo, vemos que las últimas filas del dataset del canal físico contienen datos NaN. Además un datos que llama la atención es que abril tenga una semana 18, lo cual no concuerda con la tabla de semanas [1]. Pasemos a observar el tipo de datos."
   ]
  },
  {
   "cell_type": "code",
   "execution_count": 5,
   "id": "34922141",
   "metadata": {},
   "outputs": [
    {
     "data": {
      "text/plain": [
       "id (store)     float64\n",
       "year           float64\n",
       "month          float64\n",
       "week           float64\n",
       "usa            float64\n",
       "after          float64\n",
       " sales          object\n",
       "Unnamed: 7     float64\n",
       "Unnamed: 8     float64\n",
       "Unnamed: 9     float64\n",
       "Unnamed: 10    float64\n",
       "dtype: object"
      ]
     },
     "execution_count": 5,
     "metadata": {},
     "output_type": "execute_result"
    }
   ],
   "source": [
    "# 2.3. Revisemos el tipo de dato de cada variable del canal físico\n",
    "dataset_bm.dtypes"
   ]
  },
  {
   "cell_type": "code",
   "execution_count": 6,
   "id": "392725f7",
   "metadata": {
    "scrolled": true
   },
   "outputs": [
    {
     "data": {
      "text/plain": [
       "id (DMA)         int64\n",
       "year             int64\n",
       "month            int64\n",
       "week             int64\n",
       "after            int64\n",
       "close            int64\n",
       " sales          object\n",
       "Unnamed: 7     float64\n",
       "Unnamed: 8     float64\n",
       "Unnamed: 9     float64\n",
       "Unnamed: 10    float64\n",
       "Unnamed: 11    float64\n",
       "Unnamed: 12    float64\n",
       "Unnamed: 13    float64\n",
       "Unnamed: 14    float64\n",
       "Unnamed: 15    float64\n",
       "Unnamed: 16    float64\n",
       "dtype: object"
      ]
     },
     "execution_count": 6,
     "metadata": {},
     "output_type": "execute_result"
    }
   ],
   "source": [
    "# 2.4. Revisemos el tipo de dato de cada variable del canal online\n",
    "dataset_ol.dtypes"
   ]
  },
  {
   "cell_type": "markdown",
   "id": "ec09cc56",
   "metadata": {},
   "source": [
    "Podemos observar que las ventas no están en el formato númerico que esperamos en ambos datasets. Asimismo, sería práctico convertir el año, mes y semana en un formato fecha a fín de utilizarlo como una variable de serie de tiempo, teniendo como detalle que se considera la semana hasta el domingo. Pasemos a hacer dichas conversiones."
   ]
  },
  {
   "cell_type": "code",
   "execution_count": 7,
   "id": "b1350fe3",
   "metadata": {},
   "outputs": [],
   "source": [
    "# 2.5 Seleccionamos las primeras 7 columnas en ambos datasets\n",
    "dataset_bm = dataset_bm.iloc[:,:7]\n",
    "dataset_ol = dataset_ol.iloc[:,:7]\n",
    "# 2.6 Retiramos los valores nulos\n",
    "dataset_bm.dropna(axis = 0, how = 'any', inplace = True)\n",
    "dataset_ol.dropna(axis = 0, how = 'any', inplace = True)\n",
    "# 2.7 Convertimos los nombres de los campos de ventas en numérico \n",
    "dataset_bm.rename(columns = {dataset_bm.columns[6]:'sales'}, inplace = True)\n",
    "dataset_ol.rename(columns = {dataset_ol.columns[6]:'sales'}, inplace = True)\n",
    "# 2.8 Convertimos los campos ventas en numéricos\n",
    "dataset_bm['sales'] = dataset_bm['sales'].str.replace(',','').astype('float64')\n",
    "dataset_ol['sales'] = dataset_ol['sales'].str.replace(',','').astype('float64')\n",
    "# 2.9 Convertimos los campos año, mes y semana en fecha e indexamos\n",
    "def convertir_anio_mes(el_df):\n",
    "    el_df['date_week'] = el_df['year'] * 1000 + (el_df['week']-1) * 10 + 1\n",
    "    # Debido al desfase en las semanas haremos una conversión\n",
    "    el_df['date_start'] = np.where((el_df['year']==2012) & (el_df['week']==1), \\\n",
    "                                   pd.to_datetime(el_df['year'], format='%Y'), \\\n",
    "                                   pd.to_datetime(el_df['date_week'], format='%Y%W%w'))\n",
    "convertir_anio_mes(dataset_bm)\n",
    "convertir_anio_mes(dataset_ol)"
   ]
  },
  {
   "cell_type": "code",
   "execution_count": 8,
   "id": "76c945e6",
   "metadata": {},
   "outputs": [
    {
     "data": {
      "text/html": [
       "<div>\n",
       "<style scoped>\n",
       "    .dataframe tbody tr th:only-of-type {\n",
       "        vertical-align: middle;\n",
       "    }\n",
       "\n",
       "    .dataframe tbody tr th {\n",
       "        vertical-align: top;\n",
       "    }\n",
       "\n",
       "    .dataframe thead th {\n",
       "        text-align: right;\n",
       "    }\n",
       "</style>\n",
       "<table border=\"1\" class=\"dataframe\">\n",
       "  <thead>\n",
       "    <tr style=\"text-align: right;\">\n",
       "      <th></th>\n",
       "      <th>id (store)</th>\n",
       "      <th>year</th>\n",
       "      <th>month</th>\n",
       "      <th>week</th>\n",
       "      <th>usa</th>\n",
       "      <th>after</th>\n",
       "      <th>sales</th>\n",
       "      <th>date_week</th>\n",
       "      <th>date_start</th>\n",
       "    </tr>\n",
       "  </thead>\n",
       "  <tbody>\n",
       "    <tr>\n",
       "      <th>count</th>\n",
       "      <td>4536.000000</td>\n",
       "      <td>4536.000000</td>\n",
       "      <td>4536.000000</td>\n",
       "      <td>4536.000000</td>\n",
       "      <td>4536.000000</td>\n",
       "      <td>4536.000000</td>\n",
       "      <td>4536.000000</td>\n",
       "      <td>4.536000e+03</td>\n",
       "      <td>4536</td>\n",
       "    </tr>\n",
       "    <tr>\n",
       "      <th>mean</th>\n",
       "      <td>84.738095</td>\n",
       "      <td>2011.296296</td>\n",
       "      <td>6.314815</td>\n",
       "      <td>26.796296</td>\n",
       "      <td>0.797619</td>\n",
       "      <td>0.500000</td>\n",
       "      <td>63873.317019</td>\n",
       "      <td>2.011555e+06</td>\n",
       "      <td>2011-10-11 12:53:19.999999744</td>\n",
       "    </tr>\n",
       "    <tr>\n",
       "      <th>min</th>\n",
       "      <td>1.000000</td>\n",
       "      <td>2011.000000</td>\n",
       "      <td>1.000000</td>\n",
       "      <td>1.000000</td>\n",
       "      <td>0.000000</td>\n",
       "      <td>0.000000</td>\n",
       "      <td>2915.000000</td>\n",
       "      <td>2.011151e+06</td>\n",
       "      <td>2011-04-11 00:00:00</td>\n",
       "    </tr>\n",
       "    <tr>\n",
       "      <th>25%</th>\n",
       "      <td>42.500000</td>\n",
       "      <td>2011.000000</td>\n",
       "      <td>3.000000</td>\n",
       "      <td>14.000000</td>\n",
       "      <td>1.000000</td>\n",
       "      <td>0.000000</td>\n",
       "      <td>37465.500000</td>\n",
       "      <td>2.011281e+06</td>\n",
       "      <td>2011-07-11 00:00:00</td>\n",
       "    </tr>\n",
       "    <tr>\n",
       "      <th>50%</th>\n",
       "      <td>84.000000</td>\n",
       "      <td>2011.000000</td>\n",
       "      <td>6.000000</td>\n",
       "      <td>26.500000</td>\n",
       "      <td>1.000000</td>\n",
       "      <td>0.500000</td>\n",
       "      <td>58165.000000</td>\n",
       "      <td>2.011416e+06</td>\n",
       "      <td>2011-10-13 12:00:00</td>\n",
       "    </tr>\n",
       "    <tr>\n",
       "      <th>75%</th>\n",
       "      <td>127.500000</td>\n",
       "      <td>2012.000000</td>\n",
       "      <td>9.000000</td>\n",
       "      <td>40.000000</td>\n",
       "      <td>1.000000</td>\n",
       "      <td>1.000000</td>\n",
       "      <td>84089.750000</td>\n",
       "      <td>2.012021e+06</td>\n",
       "      <td>2012-01-09 00:00:00</td>\n",
       "    </tr>\n",
       "    <tr>\n",
       "      <th>max</th>\n",
       "      <td>169.000000</td>\n",
       "      <td>2012.000000</td>\n",
       "      <td>12.000000</td>\n",
       "      <td>53.000000</td>\n",
       "      <td>1.000000</td>\n",
       "      <td>1.000000</td>\n",
       "      <td>286827.000000</td>\n",
       "      <td>2.012151e+06</td>\n",
       "      <td>2012-04-09 00:00:00</td>\n",
       "    </tr>\n",
       "    <tr>\n",
       "      <th>std</th>\n",
       "      <td>49.434118</td>\n",
       "      <td>0.456674</td>\n",
       "      <td>3.479549</td>\n",
       "      <td>15.228823</td>\n",
       "      <td>0.401819</td>\n",
       "      <td>0.500055</td>\n",
       "      <td>36531.546280</td>\n",
       "      <td>3.511354e+02</td>\n",
       "      <td>NaN</td>\n",
       "    </tr>\n",
       "  </tbody>\n",
       "</table>\n",
       "</div>"
      ],
      "text/plain": [
       "        id (store)         year        month         week          usa  \\\n",
       "count  4536.000000  4536.000000  4536.000000  4536.000000  4536.000000   \n",
       "mean     84.738095  2011.296296     6.314815    26.796296     0.797619   \n",
       "min       1.000000  2011.000000     1.000000     1.000000     0.000000   \n",
       "25%      42.500000  2011.000000     3.000000    14.000000     1.000000   \n",
       "50%      84.000000  2011.000000     6.000000    26.500000     1.000000   \n",
       "75%     127.500000  2012.000000     9.000000    40.000000     1.000000   \n",
       "max     169.000000  2012.000000    12.000000    53.000000     1.000000   \n",
       "std      49.434118     0.456674     3.479549    15.228823     0.401819   \n",
       "\n",
       "             after          sales     date_week                     date_start  \n",
       "count  4536.000000    4536.000000  4.536000e+03                           4536  \n",
       "mean      0.500000   63873.317019  2.011555e+06  2011-10-11 12:53:19.999999744  \n",
       "min       0.000000    2915.000000  2.011151e+06            2011-04-11 00:00:00  \n",
       "25%       0.000000   37465.500000  2.011281e+06            2011-07-11 00:00:00  \n",
       "50%       0.500000   58165.000000  2.011416e+06            2011-10-13 12:00:00  \n",
       "75%       1.000000   84089.750000  2.012021e+06            2012-01-09 00:00:00  \n",
       "max       1.000000  286827.000000  2.012151e+06            2012-04-09 00:00:00  \n",
       "std       0.500055   36531.546280  3.511354e+02                            NaN  "
      ]
     },
     "execution_count": 8,
     "metadata": {},
     "output_type": "execute_result"
    }
   ],
   "source": [
    "# 2.10 Ahora pasemos a ver una descripción de los datos del canal físico\n",
    "dataset_bm.describe(datetime_is_numeric=True)"
   ]
  },
  {
   "cell_type": "markdown",
   "id": "a60c4d02",
   "metadata": {},
   "source": [
    "El dataset del canal físico tiene 4536 observaciones, con un rango de fechas desde abril del 2011 hasta abril del 2012. Por la mediana de la columna \"after\" podemos observar que la mitad de los datos corresponde a antes de la introducción de BOPS, y el resto a después."
   ]
  },
  {
   "cell_type": "code",
   "execution_count": 9,
   "id": "70822a7d",
   "metadata": {},
   "outputs": [
    {
     "data": {
      "text/html": [
       "<div>\n",
       "<style scoped>\n",
       "    .dataframe tbody tr th:only-of-type {\n",
       "        vertical-align: middle;\n",
       "    }\n",
       "\n",
       "    .dataframe tbody tr th {\n",
       "        vertical-align: top;\n",
       "    }\n",
       "\n",
       "    .dataframe thead th {\n",
       "        text-align: right;\n",
       "    }\n",
       "</style>\n",
       "<table border=\"1\" class=\"dataframe\">\n",
       "  <thead>\n",
       "    <tr style=\"text-align: right;\">\n",
       "      <th></th>\n",
       "      <th>id (DMA)</th>\n",
       "      <th>year</th>\n",
       "      <th>month</th>\n",
       "      <th>week</th>\n",
       "      <th>after</th>\n",
       "      <th>close</th>\n",
       "      <th>sales</th>\n",
       "      <th>date_week</th>\n",
       "      <th>date_start</th>\n",
       "    </tr>\n",
       "  </thead>\n",
       "  <tbody>\n",
       "    <tr>\n",
       "      <th>count</th>\n",
       "      <td>10710.000000</td>\n",
       "      <td>10710.000000</td>\n",
       "      <td>10710.000000</td>\n",
       "      <td>10710.00000</td>\n",
       "      <td>10710.000000</td>\n",
       "      <td>10710.000000</td>\n",
       "      <td>10710.000000</td>\n",
       "      <td>1.071000e+04</td>\n",
       "      <td>10710</td>\n",
       "    </tr>\n",
       "    <tr>\n",
       "      <th>mean</th>\n",
       "      <td>105.500000</td>\n",
       "      <td>2011.274510</td>\n",
       "      <td>6.450980</td>\n",
       "      <td>27.45098</td>\n",
       "      <td>0.490196</td>\n",
       "      <td>0.480952</td>\n",
       "      <td>13755.704855</td>\n",
       "      <td>2.011540e+06</td>\n",
       "      <td>2011-10-08 04:42:21.176470784</td>\n",
       "    </tr>\n",
       "    <tr>\n",
       "      <th>min</th>\n",
       "      <td>1.000000</td>\n",
       "      <td>2011.000000</td>\n",
       "      <td>1.000000</td>\n",
       "      <td>1.00000</td>\n",
       "      <td>0.000000</td>\n",
       "      <td>0.000000</td>\n",
       "      <td>63.000000</td>\n",
       "      <td>2.011161e+06</td>\n",
       "      <td>2011-04-18 00:00:00</td>\n",
       "    </tr>\n",
       "    <tr>\n",
       "      <th>25%</th>\n",
       "      <td>53.000000</td>\n",
       "      <td>2011.000000</td>\n",
       "      <td>3.000000</td>\n",
       "      <td>13.00000</td>\n",
       "      <td>0.000000</td>\n",
       "      <td>0.000000</td>\n",
       "      <td>1144.000000</td>\n",
       "      <td>2.011281e+06</td>\n",
       "      <td>2011-07-11 00:00:00</td>\n",
       "    </tr>\n",
       "    <tr>\n",
       "      <th>50%</th>\n",
       "      <td>105.500000</td>\n",
       "      <td>2011.000000</td>\n",
       "      <td>7.000000</td>\n",
       "      <td>28.00000</td>\n",
       "      <td>0.000000</td>\n",
       "      <td>0.000000</td>\n",
       "      <td>5567.500000</td>\n",
       "      <td>2.011411e+06</td>\n",
       "      <td>2011-10-10 00:00:00</td>\n",
       "    </tr>\n",
       "    <tr>\n",
       "      <th>75%</th>\n",
       "      <td>158.000000</td>\n",
       "      <td>2012.000000</td>\n",
       "      <td>10.000000</td>\n",
       "      <td>41.00000</td>\n",
       "      <td>1.000000</td>\n",
       "      <td>1.000000</td>\n",
       "      <td>17185.750000</td>\n",
       "      <td>2.012011e+06</td>\n",
       "      <td>2012-01-02 00:00:00</td>\n",
       "    </tr>\n",
       "    <tr>\n",
       "      <th>max</th>\n",
       "      <td>210.000000</td>\n",
       "      <td>2012.000000</td>\n",
       "      <td>12.000000</td>\n",
       "      <td>53.00000</td>\n",
       "      <td>1.000000</td>\n",
       "      <td>1.000000</td>\n",
       "      <td>319233.000000</td>\n",
       "      <td>2.012131e+06</td>\n",
       "      <td>2012-03-26 00:00:00</td>\n",
       "    </tr>\n",
       "    <tr>\n",
       "      <th>std</th>\n",
       "      <td>60.623921</td>\n",
       "      <td>0.446288</td>\n",
       "      <td>3.533278</td>\n",
       "      <td>15.42074</td>\n",
       "      <td>0.499927</td>\n",
       "      <td>0.499660</td>\n",
       "      <td>22411.737794</td>\n",
       "      <td>3.367605e+02</td>\n",
       "      <td>NaN</td>\n",
       "    </tr>\n",
       "  </tbody>\n",
       "</table>\n",
       "</div>"
      ],
      "text/plain": [
       "           id (DMA)          year         month         week         after  \\\n",
       "count  10710.000000  10710.000000  10710.000000  10710.00000  10710.000000   \n",
       "mean     105.500000   2011.274510      6.450980     27.45098      0.490196   \n",
       "min        1.000000   2011.000000      1.000000      1.00000      0.000000   \n",
       "25%       53.000000   2011.000000      3.000000     13.00000      0.000000   \n",
       "50%      105.500000   2011.000000      7.000000     28.00000      0.000000   \n",
       "75%      158.000000   2012.000000     10.000000     41.00000      1.000000   \n",
       "max      210.000000   2012.000000     12.000000     53.00000      1.000000   \n",
       "std       60.623921      0.446288      3.533278     15.42074      0.499927   \n",
       "\n",
       "              close          sales     date_week  \\\n",
       "count  10710.000000   10710.000000  1.071000e+04   \n",
       "mean       0.480952   13755.704855  2.011540e+06   \n",
       "min        0.000000      63.000000  2.011161e+06   \n",
       "25%        0.000000    1144.000000  2.011281e+06   \n",
       "50%        0.000000    5567.500000  2.011411e+06   \n",
       "75%        1.000000   17185.750000  2.012011e+06   \n",
       "max        1.000000  319233.000000  2.012131e+06   \n",
       "std        0.499660   22411.737794  3.367605e+02   \n",
       "\n",
       "                          date_start  \n",
       "count                          10710  \n",
       "mean   2011-10-08 04:42:21.176470784  \n",
       "min              2011-04-18 00:00:00  \n",
       "25%              2011-07-11 00:00:00  \n",
       "50%              2011-10-10 00:00:00  \n",
       "75%              2012-01-02 00:00:00  \n",
       "max              2012-03-26 00:00:00  \n",
       "std                              NaN  "
      ]
     },
     "execution_count": 9,
     "metadata": {},
     "output_type": "execute_result"
    }
   ],
   "source": [
    "# 2.11 Ahora pasemos a ver una descripción de los datos del canal online\n",
    "dataset_ol.describe(datetime_is_numeric=True)"
   ]
  },
  {
   "cell_type": "markdown",
   "id": "d7116651",
   "metadata": {},
   "source": [
    "El dataset del canal online tiene 4536 observaciones, con un rango de fechas desde abril del 2011 hasta abril del 2012. Por la mediana de la columna \"after\" podemos observar que el corte en la introducción de BOPS es diferente."
   ]
  },
  {
   "cell_type": "markdown",
   "id": "0bffefc7",
   "metadata": {},
   "source": [
    "### Cuestionario de Preguntas"
   ]
  },
  {
   "cell_type": "markdown",
   "id": "a537efac",
   "metadata": {},
   "source": [
    "#### 1. ¿Deberían expandirse a Canadá?"
   ]
  },
  {
   "cell_type": "markdown",
   "id": "847fcdea",
   "metadata": {},
   "source": [
    "El punto de partida es validar los resultados de ventas presentados en el caso. De acuerdo a la documentación, los periodos de ventas son seis meses antes y seis meses depués de la implementación del programa BOPS (lanzado en octubre). Si bien esto brinda periodos de venta equiparables en total de meses, estos no son equivalentes en capturar la demanda de ciertos meses como diciembre para ambos periodos. \n",
    "\n",
    "Pasemos a ver las ventas promedio de cada canal, en un gráfico de líneas."
   ]
  },
  {
   "cell_type": "code",
   "execution_count": 10,
   "id": "e0747ed4",
   "metadata": {},
   "outputs": [
    {
     "data": {
      "image/png": "[encoded data removed]",
      "text/plain": [
       "<Figure size 432x288 with 1 Axes>"
      ]
     },
     "metadata": {
      "needs_background": "light"
     },
     "output_type": "display_data"
    }
   ],
   "source": [
    "# Aquí hacemos una agregación por el promedio de cada semana del canal físico\n",
    "dataset_bm.pivot_table(index='date_start', columns='after', values='sales', aggfunc='mean').plot()\n",
    "plt.title('Ventas semanales promedio - Canal Físico')\n",
    "plt.show()"
   ]
  },
  {
   "cell_type": "code",
   "execution_count": 11,
   "id": "0e372311",
   "metadata": {},
   "outputs": [
    {
     "data": {
      "image/png": "[encoded data removed]",
      "text/plain": [
       "<Figure size 432x288 with 1 Axes>"
      ]
     },
     "metadata": {
      "needs_background": "light"
     },
     "output_type": "display_data"
    }
   ],
   "source": [
    "# Aquí hacemos una agregación por el promedio de cada semana del canal online\n",
    "dataset_ol.pivot_table(index='date_start', columns='after', values='sales', aggfunc='mean').plot()\n",
    "plt.title('Ventas semanales promedio - Canal Online')\n",
    "plt.show()"
   ]
  },
  {
   "cell_type": "markdown",
   "id": "c41180d3",
   "metadata": {},
   "source": [
    "Por los gráficos de líneas vemos en el caso del canal físico una caída aunque no tan marcada, mientras que el canal online inició bien el programa BOPS pero luego tuvo una caída.\n",
    "\n",
    "Iniciaremos recreando la tabla de diferencias de ventas por canal pre y post implementación de BOPS."
   ]
  },
  {
   "cell_type": "code",
   "execution_count": 12,
   "id": "db0110f4",
   "metadata": {},
   "outputs": [
    {
     "data": {
      "text/html": [
       "<div>\n",
       "<style scoped>\n",
       "    .dataframe tbody tr th:only-of-type {\n",
       "        vertical-align: middle;\n",
       "    }\n",
       "\n",
       "    .dataframe tbody tr th {\n",
       "        vertical-align: top;\n",
       "    }\n",
       "\n",
       "    .dataframe thead th {\n",
       "        text-align: right;\n",
       "    }\n",
       "</style>\n",
       "<table border=\"1\" class=\"dataframe\">\n",
       "  <thead>\n",
       "    <tr style=\"text-align: right;\">\n",
       "      <th>canal</th>\n",
       "      <th>fisico</th>\n",
       "      <th>online</th>\n",
       "    </tr>\n",
       "    <tr>\n",
       "      <th>after</th>\n",
       "      <th></th>\n",
       "      <th></th>\n",
       "    </tr>\n",
       "  </thead>\n",
       "  <tbody>\n",
       "    <tr>\n",
       "      <th>0.0</th>\n",
       "      <td>67645.7</td>\n",
       "      <td>14737.8</td>\n",
       "    </tr>\n",
       "    <tr>\n",
       "      <th>1.0</th>\n",
       "      <td>60100.9</td>\n",
       "      <td>12734.3</td>\n",
       "    </tr>\n",
       "  </tbody>\n",
       "</table>\n",
       "</div>"
      ],
      "text/plain": [
       "canal   fisico   online\n",
       "after                  \n",
       "0.0    67645.7  14737.8\n",
       "1.0    60100.9  12734.3"
      ]
     },
     "execution_count": 12,
     "metadata": {},
     "output_type": "execute_result"
    }
   ],
   "source": [
    "# Primero vamos a pivotar el dataset del canal fisico, y separar las medias semanales pre y post BOPS\n",
    "base_bm_pv = dataset_bm\n",
    "base_bm_pv['canal'] = 'fisico'\n",
    "base_bm_pv = base_bm_pv.pivot_table(index='after',columns = 'canal', values = 'sales', aggfunc = np.mean).round(1)\n",
    "# Luego vamos a pivotar el dataset del canal online, y separar las medias semanales pre y post BOPS\n",
    "base_ol_pv = dataset_ol\n",
    "base_ol_pv['canal'] = 'online'\n",
    "base_ol_pv = base_ol_pv.pivot_table(index='after',columns = 'canal', values = 'sales', aggfunc = np.mean).round(1)\n",
    "# Ahora vamos a mostrar los pivotes unidos\n",
    "base_all_pv = base_bm_pv\n",
    "base_all_pv['online'] = base_ol_pv['online'] \n",
    "base_all_pv"
   ]
  },
  {
   "cell_type": "code",
   "execution_count": 13,
   "id": "d17f5ea3",
   "metadata": {},
   "outputs": [
    {
     "name": "stdout",
     "output_type": "stream",
     "text": [
      "El cambio de la diferencia promedio en las ventas del canal físico fue de $ -7544.8 y el cambio de la diferencia promedio en las ventas del canal online fue de $ -2003.5 \n"
     ]
    }
   ],
   "source": [
    "# Agregamos la impresion de la diferencia en ventas luego de implementar el programa BOPS\n",
    "print(f\"El cambio de la diferencia promedio en las ventas del canal físico fue de $ \\\n",
    "{(base_all_pv.iloc[1,0]-base_all_pv.iloc[0,0]):.1f}\\\n",
    " y el cambio de la diferencia promedio en las ventas del canal online fue de $ \\\n",
    "{(base_all_pv.iloc[1,1]-base_all_pv.iloc[0,1]):.1f} \")"
   ]
  },
  {
   "cell_type": "markdown",
   "id": "10eef899",
   "metadata": {},
   "source": [
    "Con las diferencias indicadas, vemos un descenso en las ventas en ambos canales. Sin embargo, se requiere un análisis más minucioso, ya que cada canal de ventas tiene estratos como sucede con el canal online."
   ]
  },
  {
   "cell_type": "code",
   "execution_count": 14,
   "id": "c43ba3ab",
   "metadata": {},
   "outputs": [
    {
     "data": {
      "text/html": [
       "<div>\n",
       "<style scoped>\n",
       "    .dataframe tbody tr th:only-of-type {\n",
       "        vertical-align: middle;\n",
       "    }\n",
       "\n",
       "    .dataframe tbody tr th {\n",
       "        vertical-align: top;\n",
       "    }\n",
       "\n",
       "    .dataframe thead th {\n",
       "        text-align: right;\n",
       "    }\n",
       "</style>\n",
       "<table border=\"1\" class=\"dataframe\">\n",
       "  <thead>\n",
       "    <tr style=\"text-align: right;\">\n",
       "      <th>after</th>\n",
       "      <th>0</th>\n",
       "      <th>1</th>\n",
       "    </tr>\n",
       "    <tr>\n",
       "      <th>close</th>\n",
       "      <th></th>\n",
       "      <th></th>\n",
       "    </tr>\n",
       "  </thead>\n",
       "  <tbody>\n",
       "    <tr>\n",
       "      <th>0</th>\n",
       "      <td>44.38</td>\n",
       "      <td>37.53</td>\n",
       "    </tr>\n",
       "    <tr>\n",
       "      <th>1</th>\n",
       "      <td>36.09</td>\n",
       "      <td>29.33</td>\n",
       "    </tr>\n",
       "  </tbody>\n",
       "</table>\n",
       "</div>"
      ],
      "text/plain": [
       "after      0      1\n",
       "close              \n",
       "0      44.38  37.53\n",
       "1      36.09  29.33"
      ]
     },
     "execution_count": 14,
     "metadata": {},
     "output_type": "execute_result"
    }
   ],
   "source": [
    "# Vamos a desagregar las ventas del canal online por cercania\n",
    "ol_pv = dataset_ol.pivot_table(index='close', columns = 'after', values = 'sales', aggfunc = np.sum)\n",
    "ol_pv = (ol_pv/1000000).round(2) # Llevemos a millones\n",
    "ol_pv"
   ]
  },
  {
   "cell_type": "markdown",
   "id": "71d6befa",
   "metadata": {},
   "source": [
    "Vemos que los locales no cercanos vendieron en el periodo pre BOPS unos 44.38 millones, y luego de la implementación de BOPS vendieron unos 37.53 millones. En el caso de los locales cercanos pasaron de 36.09 millones en el periodo pre BOPS a vender 29.33 millones después de la implementación de BOPS. \n",
    "\n",
    "Al ver esta segmentación, se asemeja a un experimento (la observación de que efecto tuvo BOPS), el cual tiene un grupo de tratamiento y un grupo de control. Un procedimiento que puede aplicarse es la diferencia de diferencias (DID por sus siglas en inglés), la cual es una técnica cuasi-experimental utilizada en econometría que mide el efecto de un tratamiento en un determinado período en el tiempo. A menudo se utiliza para medir el cambio inducido por un tratamiento o un evento en particular, aunque puede estar sujeto a ciertas tendencias (reversión a la media prejuicios, etc.).[2]\n",
    "\n",
    "El procedimiento es encontrar las diferencias entre los periodos de aplicación del experimento y luego entre estas encontrar la diferencias. Para ello vamos a crear una función que la evalue en base a los resultados que hemos mostrado."
   ]
  },
  {
   "cell_type": "code",
   "execution_count": 15,
   "id": "cf75f6b3",
   "metadata": {},
   "outputs": [],
   "source": [
    "# Esta función crea el cálculo de Difference in Differences en base a una tabla pivote \n",
    "def DID_calculation(dfpv,col_a,col_b):\n",
    "    # Primero calculamos la diferencia entre las columnas, post menos pre\n",
    "    dfpv['diff'] = dfpv[col_b]-dfpv[col_a]\n",
    "    # Luego hallamos el ratio de variación de las columnas post y pre\n",
    "    dfpv['diff_pct'] = ((dfpv[col_b] - dfpv[col_a])/dfpv[col_a])\n",
    "    # La diferencia de estos ratios de diferencias entre el grupo de tratamiento y el grupo de control es el DID\n",
    "    DID = (dfpv.iloc[1,3] - dfpv.iloc[0,3])*100\n",
    "    # Aquí aplicamos un poco de estilo al resultado el cual será azul\n",
    "    styles = [dict(selector=\"caption\",props=[('font-size', '120%'),\\\n",
    "                                             ('color', 'midnightblue'),('font-weight','bold')])] \n",
    "    return dfpv.style.set_caption(f\"DID es : {DID:.2f}%\").\\\n",
    "        set_table_styles(styles).format({'diff_pct': '{:.2%}',col_b : '{:.1f}',col_a : '{:.1f}','diff':'{:.1f}'})"
   ]
  },
  {
   "cell_type": "code",
   "execution_count": 16,
   "id": "82b45ff4",
   "metadata": {},
   "outputs": [
    {
     "data": {
      "text/html": [
       "<style  type=\"text/css\" >\n",
       "    #T_7e592_ caption {\n",
       "          font-size: 120%;\n",
       "          color: midnightblue;\n",
       "          font-weight: bold;\n",
       "    }</style><table id=\"T_7e592_\" ><caption>DID es : -3.30%</caption><thead>    <tr>        <th class=\"index_name level0\" >after</th>        <th class=\"col_heading level0 col0\" >0</th>        <th class=\"col_heading level0 col1\" >1</th>        <th class=\"col_heading level0 col2\" >diff</th>        <th class=\"col_heading level0 col3\" >diff_pct</th>    </tr>    <tr>        <th class=\"index_name level0\" >close</th>        <th class=\"blank\" ></th>        <th class=\"blank\" ></th>        <th class=\"blank\" ></th>        <th class=\"blank\" ></th>    </tr></thead><tbody>\n",
       "                <tr>\n",
       "                        <th id=\"T_7e592_level0_row0\" class=\"row_heading level0 row0\" >0</th>\n",
       "                        <td id=\"T_7e592_row0_col0\" class=\"data row0 col0\" >44.4</td>\n",
       "                        <td id=\"T_7e592_row0_col1\" class=\"data row0 col1\" >37.5</td>\n",
       "                        <td id=\"T_7e592_row0_col2\" class=\"data row0 col2\" >-6.9</td>\n",
       "                        <td id=\"T_7e592_row0_col3\" class=\"data row0 col3\" >-15.43%</td>\n",
       "            </tr>\n",
       "            <tr>\n",
       "                        <th id=\"T_7e592_level0_row1\" class=\"row_heading level0 row1\" >1</th>\n",
       "                        <td id=\"T_7e592_row1_col0\" class=\"data row1 col0\" >36.1</td>\n",
       "                        <td id=\"T_7e592_row1_col1\" class=\"data row1 col1\" >29.3</td>\n",
       "                        <td id=\"T_7e592_row1_col2\" class=\"data row1 col2\" >-6.8</td>\n",
       "                        <td id=\"T_7e592_row1_col3\" class=\"data row1 col3\" >-18.73%</td>\n",
       "            </tr>\n",
       "    </tbody></table>"
      ],
      "text/plain": [
       "<pandas.io.formats.style.Styler at 0x7fdcb3a050d0>"
      ]
     },
     "execution_count": 16,
     "metadata": {},
     "output_type": "execute_result"
    }
   ],
   "source": [
    "# Ahora aplicamos nuestra función DID al desagregado de ventas del canal online por la cercanía\n",
    "DID_calculation(ol_pv,0,1)"
   ]
  },
  {
   "cell_type": "code",
   "execution_count": 17,
   "id": "6259941c",
   "metadata": {},
   "outputs": [
    {
     "name": "stdout",
     "output_type": "stream",
     "text": [
      "DID del canal online: -3.30%\n"
     ]
    }
   ],
   "source": [
    "DID_ol = (ol_pv.iloc[1,3] - ol_pv.iloc[0,3])*100\n",
    "print(f\"DID del canal online: {DID_ol:.2f}%\")"
   ]
  },
  {
   "cell_type": "markdown",
   "id": "07e83d4e",
   "metadata": {},
   "source": [
    "En este caso, con un DID de -3.3% vemos que ha habido una caida en el canal online. No disponemos de más agregación para separar este canal, así que pasaremos al canal físico, desagregando sus ventas."
   ]
  },
  {
   "cell_type": "code",
   "execution_count": 18,
   "id": "5a1fb528",
   "metadata": {},
   "outputs": [
    {
     "data": {
      "text/html": [
       "<div>\n",
       "<style scoped>\n",
       "    .dataframe tbody tr th:only-of-type {\n",
       "        vertical-align: middle;\n",
       "    }\n",
       "\n",
       "    .dataframe tbody tr th {\n",
       "        vertical-align: top;\n",
       "    }\n",
       "\n",
       "    .dataframe thead th {\n",
       "        text-align: right;\n",
       "    }\n",
       "</style>\n",
       "<table border=\"1\" class=\"dataframe\">\n",
       "  <thead>\n",
       "    <tr style=\"text-align: right;\">\n",
       "      <th>after</th>\n",
       "      <th>0.0</th>\n",
       "      <th>1.0</th>\n",
       "    </tr>\n",
       "    <tr>\n",
       "      <th>usa</th>\n",
       "      <th></th>\n",
       "      <th></th>\n",
       "    </tr>\n",
       "  </thead>\n",
       "  <tbody>\n",
       "    <tr>\n",
       "      <th>0.0</th>\n",
       "      <td>30.69</td>\n",
       "      <td>25.85</td>\n",
       "    </tr>\n",
       "    <tr>\n",
       "      <th>1.0</th>\n",
       "      <td>122.73</td>\n",
       "      <td>110.46</td>\n",
       "    </tr>\n",
       "  </tbody>\n",
       "</table>\n",
       "</div>"
      ],
      "text/plain": [
       "after     0.0     1.0\n",
       "usa                  \n",
       "0.0     30.69   25.85\n",
       "1.0    122.73  110.46"
      ]
     },
     "execution_count": 18,
     "metadata": {},
     "output_type": "execute_result"
    }
   ],
   "source": [
    "# Vamos a desagregar las ventas del canal físico por localización, ya sea en USA o en Canadá\n",
    "bm_pv = dataset_bm.pivot_table(index='usa', columns = 'after', values = 'sales', aggfunc = np.sum)\n",
    "bm_pv = (bm_pv/1000000).round(2) # Para evitar números muy grandes, los llevamos a millones\n",
    "bm_pv"
   ]
  },
  {
   "cell_type": "markdown",
   "id": "bb4cb649",
   "metadata": {},
   "source": [
    "El caso indicaba que Canadá no habia procedido aún con el programa BOPS, así que será un buen grupo de control. Pasemos a calcular la diferencia de diferencias (DID) en este cana físico."
   ]
  },
  {
   "cell_type": "code",
   "execution_count": 19,
   "id": "ab9fac86",
   "metadata": {},
   "outputs": [
    {
     "data": {
      "text/html": [
       "<style  type=\"text/css\" >\n",
       "    #T_74e18_ caption {\n",
       "          font-size: 120%;\n",
       "          color: midnightblue;\n",
       "          font-weight: bold;\n",
       "    }</style><table id=\"T_74e18_\" ><caption>DID es : 5.77%</caption><thead>    <tr>        <th class=\"index_name level0\" >after</th>        <th class=\"col_heading level0 col0\" >0.0</th>        <th class=\"col_heading level0 col1\" >1.0</th>        <th class=\"col_heading level0 col2\" >diff</th>        <th class=\"col_heading level0 col3\" >diff_pct</th>    </tr>    <tr>        <th class=\"index_name level0\" >usa</th>        <th class=\"blank\" ></th>        <th class=\"blank\" ></th>        <th class=\"blank\" ></th>        <th class=\"blank\" ></th>    </tr></thead><tbody>\n",
       "                <tr>\n",
       "                        <th id=\"T_74e18_level0_row0\" class=\"row_heading level0 row0\" >0.0</th>\n",
       "                        <td id=\"T_74e18_row0_col0\" class=\"data row0 col0\" >30.7</td>\n",
       "                        <td id=\"T_74e18_row0_col1\" class=\"data row0 col1\" >25.9</td>\n",
       "                        <td id=\"T_74e18_row0_col2\" class=\"data row0 col2\" >-4.8</td>\n",
       "                        <td id=\"T_74e18_row0_col3\" class=\"data row0 col3\" >-15.77%</td>\n",
       "            </tr>\n",
       "            <tr>\n",
       "                        <th id=\"T_74e18_level0_row1\" class=\"row_heading level0 row1\" >1.0</th>\n",
       "                        <td id=\"T_74e18_row1_col0\" class=\"data row1 col0\" >122.7</td>\n",
       "                        <td id=\"T_74e18_row1_col1\" class=\"data row1 col1\" >110.5</td>\n",
       "                        <td id=\"T_74e18_row1_col2\" class=\"data row1 col2\" >-12.3</td>\n",
       "                        <td id=\"T_74e18_row1_col3\" class=\"data row1 col3\" >-10.00%</td>\n",
       "            </tr>\n",
       "    </tbody></table>"
      ],
      "text/plain": [
       "<pandas.io.formats.style.Styler at 0x7fdcb3fe0760>"
      ]
     },
     "execution_count": 19,
     "metadata": {},
     "output_type": "execute_result"
    }
   ],
   "source": [
    "# Veamos que dice la técnica DID en el canal físico\n",
    "DID_calculation(bm_pv,0,1)"
   ]
  },
  {
   "cell_type": "code",
   "execution_count": 20,
   "id": "6b9f7185",
   "metadata": {},
   "outputs": [
    {
     "name": "stdout",
     "output_type": "stream",
     "text": [
      "DID del canal online: 5.77%\n"
     ]
    }
   ],
   "source": [
    "DID_bm = (bm_pv.iloc[1,3] - bm_pv.iloc[0,3])*100\n",
    "print(f\"DID del canal online: {DID_bm:.2f}%\")"
   ]
  },
  {
   "cell_type": "markdown",
   "id": "1e973f07",
   "metadata": {},
   "source": [
    "En este caso observamos que la diferencia de diferencias en el canal físico tiene un DID de 5.77%, lo cual indica que a pesar de la tendencia general a la baja, ha habido un cambio positivo debido a la aplicación del tratamiento (el programa BOPS)."
   ]
  },
  {
   "cell_type": "markdown",
   "id": "6b11c9aa",
   "metadata": {},
   "source": [
    "#### Respuesta 1\n",
    "Dado los resultados del análisis DID, no podemos descartar el programa BOPS por el efecto que ha tenido en el canal físico en USA. Por ello, se recomienda la expansión del programa BOPS a Canadá."
   ]
  },
  {
   "cell_type": "markdown",
   "id": "df2f044a",
   "metadata": {},
   "source": [
    "#### 2. ¿Cuántos millones de dólares se ganaron o perdieron a partir del programa? Explica tu razonamiento y metodología."
   ]
  },
  {
   "cell_type": "markdown",
   "id": "f481f503",
   "metadata": {},
   "source": [
    "Hemos observado con el análisis de diferencias en diferencias DID que hubo un efecto en el canal físico al aplicarse BOPS en USA. Al leer el documento del caso, el punto de partida fue que había un descenso en las ventas respecto al periodo pre-BOPS. Incluso ese descenso se ve en el canal online con un DID negativo (-3.3%) con respecto a la cercanía.\n",
    "\n",
    "Este tipo de análisis requiere ciertas premisas, como que los datos del grupo de tratamiento y el de control tengan una tendencia paralela, con caracterísitcas estables [3]. Veamos la gráfica con la tendencia de ventas Pre (previo a BOPS) y Post (posterior a BOPS) para el canal físico y para el canal online:"
   ]
  },
  {
   "cell_type": "code",
   "execution_count": 21,
   "id": "6f9e27c6",
   "metadata": {},
   "outputs": [
    {
     "data": {
      "image/png": "[encoded data removed]",
      "text/plain": [
       "<Figure size 432x288 with 1 Axes>"
      ]
     },
     "metadata": {
      "needs_background": "light"
     },
     "output_type": "display_data"
    }
   ],
   "source": [
    "# La tabla pivote permite que hagamos esta gráfica, que vamos a agregar por pre o post BOPS y ubicación \n",
    "dataset_bm.pivot_table(index='date_start', columns=['after','usa'], values='sales', aggfunc='mean').plot()\n",
    "plt.title('Ventas semanales promedio - Canal Físico')\n",
    "plt.legend(['Pre-Canadá','Pre-USA','Post-Canadá','Post-USA'])\n",
    "plt.show()"
   ]
  },
  {
   "cell_type": "code",
   "execution_count": 22,
   "id": "e40eeb8a",
   "metadata": {},
   "outputs": [
    {
     "data": {
      "image/png": "[encoded data removed]",
      "text/plain": [
       "<Figure size 432x288 with 1 Axes>"
      ]
     },
     "metadata": {
      "needs_background": "light"
     },
     "output_type": "display_data"
    }
   ],
   "source": [
    "# La tabla pivote permite que hagamos esta gráfica, que vamos a agregar por pre o post BOPS y cercanía \n",
    "dataset_ol.pivot_table(index='date_start', columns=['after','close'], values='sales', aggfunc='mean').plot()\n",
    "plt.title('Ventas semanales promedio - Canal Online')\n",
    "plt.legend(['Pre-Lejos','Pre-Cerca','Post-Lejos','Post-Cerca'])\n",
    "plt.show()"
   ]
  },
  {
   "cell_type": "markdown",
   "id": "2c4e465e",
   "metadata": {},
   "source": [
    "En este caso si podemos ver que hay un paralelo en las ventas pre BOPS para el canal físico y para el canal online, por lo que aplicar diferencias en diferencias estaría validado. \n",
    "\n",
    "Ahora que si tenemos en el caso del DID de 5.77% para el canal físico y un DID de -3.3% para el canal, podemos medir ese impacto en dinero para ambos canales:"
   ]
  },
  {
   "cell_type": "code",
   "execution_count": 23,
   "id": "e7df4a6b",
   "metadata": {},
   "outputs": [
    {
     "name": "stdout",
     "output_type": "stream",
     "text": [
      "Resultado del canal online: -1.190M\n",
      "Resultado del canal físico: 7.085M\n",
      "Resultado combinado de ambos: 5.896M\n"
     ]
    }
   ],
   "source": [
    "Monto_Canal_Online = ol_pv.iloc[1,0] * DID_ol/100 # Recordemos que el valor está en millones\n",
    "Monto_Canal_Fisico = bm_pv.iloc[1,0] * DID_bm/100 # Igual está en millones\n",
    "Resultado = Monto_Canal_Online + Monto_Canal_Fisico # En millones\n",
    "print(f\"Resultado del canal online: {Monto_Canal_Online:.3f}M\\n\\\n",
    "Resultado del canal físico: {Monto_Canal_Fisico:.3f}M\\n\\\n",
    "Resultado combinado de ambos: {Resultado:.3f}M\")"
   ]
  },
  {
   "cell_type": "markdown",
   "id": "3eb6abe2",
   "metadata": {},
   "source": [
    "En esta fórmula estamos tomando los valores del grupo de tratamiento (fila 1) del punto pre-BOPS (columna 0) y aplicamos el valor DID para calcular el efecto post BOPS. Esto nos indica que el programa BOPS ha significado 5.896 millones de impacto en las ventas."
   ]
  },
  {
   "cell_type": "markdown",
   "id": "3f5ec488",
   "metadata": {},
   "source": [
    "#### Respuesta 2\n",
    "Los millones que se ganaron por el programa BOPS fueron 5.896, el cual es el efecto medido sobre ambos canales con la pérdida en el canal online de -1.19M y la ganancia en el canal físico de 7.085M. "
   ]
  },
  {
   "cell_type": "markdown",
   "id": "d948d499",
   "metadata": {},
   "source": [
    "### Referencias\n",
    "[1] Epoch Converter. (9 de mayo del 2021). *Week Numbers for 2011*. Descargado de https://www.epochconverter.com/weeks/2011  \n",
    "[2] Wikipedia. (9 de mayo del 2021). *Diferencia en diferencias*. Descargado de https://es.wikipedia.org/wiki/Diferencias_en_diferencias  \n",
    "[3] Medium - Dataman AI. (9 de mayo del 2021). *Identify Causality by Difference in Differences*. Descargado de https://medium.com/dataman-in-ai/identify-causality-by-difference-in-differences-78ad8335fb7c  "
   ]
  }
 ],
 "metadata": {
  "kernelspec": {
   "display_name": "Python 3",
   "language": "python",
   "name": "python3"
  },
  "language_info": {
   "codemirror_mode": {
    "name": "ipython",
    "version": 3
   },
   "file_extension": ".py",
   "mimetype": "text/x-python",
   "name": "python",
   "nbconvert_exporter": "python",
   "pygments_lexer": "ipython3",
   "version": "3.8.3"
  }
 },
 "nbformat": 4,
 "nbformat_minor": 5
}
